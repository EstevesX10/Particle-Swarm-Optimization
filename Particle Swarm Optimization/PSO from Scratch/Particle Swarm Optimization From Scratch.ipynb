{
 "cells": [
  {
   "cell_type": "markdown",
   "id": "12476d9e-03d5-49b7-894c-8da40e7e7cb0",
   "metadata": {},
   "source": [
    "---\n",
    "\n",
    "<div align=\"center\">\n",
    "\n",
    "# Particle Swarm Optimization From Scratch\n",
    "</div>\n",
    "\n",
    "---\n",
    "\n",
    "This project focuses on developing the ``Particle Swarm Optimization (PSO) algorithm from scratch in Python``.\n",
    "\n",
    "It contains the implementation of **core principles of PSO**, including **particles initialization**, **velocity updates**, and **position adjustments**, while allowing particles to ``converge towards optimal solutions`` based on the ``balance between exploration and exploitation``. \n",
    "\n",
    "Therefore, it involved coding PSO’s **key mechanics**, such as ``inertia``, ``cognitive and social components``, with the ultimate goal of creating a **flexible and efficient optimization tool** that can be applied to a variety of optimization problems."
   ]
  },
  {
   "cell_type": "markdown",
   "id": "b6e514e6-015a-4d37-9142-9aaf3fe0716d",
   "metadata": {},
   "source": [
    "---\n",
    "\n",
    "<div align=\"center\">\n",
    "    \n",
    "## Algorithm Overview\n",
    "</div>\n",
    "\n",
    "---\n",
    "\n",
    "**Particle Swarm Optimization (PSO)** is an algorithm inspired by ``social behavior``, like how **birds flock** or **fish school**. It aims to find ``optimal solutions`` by iterating over potential candidates in a defined space. The process can be broken down into the following ``six steps``.\n",
    "\n",
    "---\n",
    "\n",
    "###  $\\space\\space\\space\\space$ Step #1 &#8594; Initialization\n",
    "- A group of particles (potential solutions) is **randomly positioned** in the search space.\n",
    "- Each particle has a **velocity vector** determining its movement.\n",
    "\n",
    "### $\\space\\space\\space\\space$ Step #2 &#8594; Objective Function\n",
    "- Particles aim to **minimize/maximize** a given function (``objective function``), which **evaluates** each particle’s position.\n",
    "\n",
    "### $\\space\\space\\space\\space$ Step #3 &#8594; Velocity Update\n",
    "- **Inertia**: Continues **particle's movement** in its current direction.\n",
    "- **Cognitive Component**: Moves particle **toward its personal best position** $(p_{best})$.\n",
    "- **Social Component**: Moves particle **toward the swarm's global best** $(g_{best}$).\n",
    "\n",
    "> These components are weighted and random factors are introduced to avoid premature convergence.\n",
    "\n",
    "$$V_{i}^{t+1} = w\\space V_{i}^{t} + c_1 \\space r_1 \\space (P_{\\text{best}_{(i)}}^{t} - P_{i}^{t}) + c_2 \\space r_2 \\space (P_{\\text{best global}}^{t} - P_{i}^{t})$$\n",
    "\n",
    "- _Where_:\n",
    "  \n",
    "  - $w$ is the **inertia weight**.\n",
    "  - $c_1$ and $c_2$ are **cognitive** and **social coefficients**.\n",
    "  - $r_1$ and $r_2$ are **random numbers**.\n",
    "  - $P_{\\text{best}(i)}$ is e particle’s **best known position**.\n",
    "  - $P_{\\text{best global}}$ is the **best known position globally**.\n",
    "\n",
    "### $\\space\\space\\space\\space$ Step #4 &#8594; Position Update\n",
    "- The velocity is used to **adjust each particle’s position**. It is performed based on the following formula:\n",
    "\n",
    "$$P_{i}^{t+1} = P_{i}^{t} + V_{i}^{t+1}$$\n",
    "\n",
    "- _Where_:\n",
    "  \n",
    "  - $P_{i}^{t+1}$ is the **new position of the particle**.\n",
    "  \n",
    "  - $V_{i}^{t+1}$ is the **updated velocity**.\n",
    "\n",
    "### $\\space\\space\\space\\space$ Step #5 &#8594; Evaluation\n",
    "- Each particle’s new position is ``evaluated``, **updating personal and global bests** if necessary.\n",
    "\n",
    "### $\\space\\space\\space\\space$ Step #6 &#8594; Stopping Criteria\n",
    "- The process continues until either the ``maximum number of iterations`` is reached or the ``swarm converges``.\n",
    "\n",
    "> ## Key Parameters:\n",
    ">- **Inertia Weight (w)**: Balances ``exploration`` and ``exploitation``.\n",
    ">- **Cognitive (c1) & Social Coefficients (c2)**: Control how much ``influence personal and global bests have``."
   ]
  },
  {
   "cell_type": "markdown",
   "id": "e702b83e-e7bf-4846-8e4c-c6c16a16b2be",
   "metadata": {},
   "source": [
    "---\n",
    "\n",
    "<div align=\"center\">\n",
    "    \n",
    "# [Python] Implementation\n",
    "</div>\n",
    "\n",
    "---"
   ]
  },
  {
   "cell_type": "code",
   "execution_count": 1,
   "id": "8c4191e4-c095-432e-913d-86c746a8e1ba",
   "metadata": {},
   "outputs": [],
   "source": [
    "import random as rnd\n",
    "import numpy as np\n",
    "import matplotlib.pyplot as plt"
   ]
  },
  {
   "cell_type": "code",
   "execution_count": 2,
   "id": "d20458db-2708-4c2a-b7c4-8ce2a065604d",
   "metadata": {},
   "outputs": [],
   "source": [
    "config = {\n",
    "    'W':0.5,                   # Inertia (Initial Weights)\n",
    "    'c1':0.8,                  # Cognitive / Personal Best based coefficient (Prioritizes Exploration since it only focuses on the personal's best solution)\n",
    "    'c2':0.9,                  # Social / Global Best based coefficient (Prioritizes Exploitation since it only focuses on the team's best solution)\n",
    "    'NumIterations': 1000,     # Number of Iterations to be performed\n",
    "    'NumParticles': 50,        # Number of Particles to include within the search space\n",
    "    'targetError': 1e-30,      # Minimum error that must be satisfied before stopping the search\n",
    "    'plotIntervals': 5,        # Interval in which to plot the search space\n",
    "    'plotxMin': -5,            # Min x value on the x axis of the plot\n",
    "    'plotxMax': 5,             # Max x value on the x axis of the plot\n",
    "    'plotyMin': -5,            # Min y value on the y axis of the plot\n",
    "    'plotyMax': 5              # Max y value on the y axis of the plot\n",
    "}"
   ]
  },
  {
   "cell_type": "code",
   "execution_count": 3,
   "id": "f2eeaa03-8284-417c-ad67-fc42aa675268",
   "metadata": {},
   "outputs": [],
   "source": [
    "class Particle:\n",
    "    def __init__(self) -> None:\n",
    "        \"\"\"\n",
    "        # Description\n",
    "            -> Constructor method which allows to create new instances of Particle\n",
    "        := return: A new instance of Particle\n",
    "        \"\"\"\n",
    "        # Initialize a random position\n",
    "        x = (-1) ** bool(rnd.getrandbits(1)) * rnd.random() * 1000\n",
    "        y = (-1) ** bool(rnd.getrandbits(1)) * rnd.random() * 1000\n",
    "        self.position = np.array([x, y])\n",
    "\n",
    "        # Initialize the particle's velocity [Static at first]\n",
    "        self.velocity = np.array([0, 0])\n",
    "\n",
    "        # Define the personal best position and value\n",
    "        self.personalBestPosition = self.position\n",
    "        self.personalBestValue = float('inf')\n",
    "\n",
    "    def update(self) -> None:\n",
    "        \"\"\"\n",
    "        # Description:\n",
    "            -> The update method allows the particle to move by adding the velocity to the current position\n",
    "        := return: None, since we are only updating the particle's position\n",
    "        \"\"\"\n",
    "        # Update current position by adding the veocity\n",
    "        self.position = self.position + self.velocity"
   ]
  },
  {
   "cell_type": "code",
   "execution_count": 4,
   "id": "ae75a2b5-14bd-449f-a53f-786a3b54d07a",
   "metadata": {},
   "outputs": [],
   "source": [
    "class Environment():\n",
    "    def __init__(self, target:int, config:dict) -> None:\n",
    "        \"\"\"\n",
    "        # Description\n",
    "            -> Constructor method which allows to create new instances of Space\n",
    "        := param: target - Fitness Score to reach (The place where all the particles must converge to has the higher score)\n",
    "        := param: config - Configuration to be used during the particles search\n",
    "        := return: A new instance of Space\n",
    "        \"\"\"\n",
    "        # Store all the given parameters\n",
    "        self.target = target\n",
    "        self.config = config\n",
    "\n",
    "        # Create a list to store all the Particles\n",
    "        self.particles = [Particle() for _ in range(self.config['NumParticles'])]\n",
    "\n",
    "        # Define the initial global best position and value\n",
    "        self.globalBestValue = float('inf')\n",
    "        self.globalBestPosition = np.array([rnd.random() * 50, rnd.random() * 50])\n",
    "\n",
    "    # In this implementation the objective function is give by: f = x^2 + y^2 + 1\n",
    "    def fitness(self, particle:Particle) -> int:\n",
    "        \"\"\"\n",
    "        # Description\n",
    "            -> The fitness method is responsible for performing the fitness score evaluation according to the objective function\n",
    "        := param: particle - Instance of the previously implemented Particle class\n",
    "        := return: Fitness score of the given particle\n",
    "        \"\"\"\n",
    "        x = particle.position[0]\n",
    "        y = particle.position[1]\n",
    "        f = x**2 + y**2 + 1\n",
    "        return f\n",
    "\n",
    "    def setPersonalBest(self) -> None:\n",
    "        \"\"\"\n",
    "        # Description\n",
    "            -> This method is responsible for Updating the particles personal best position and value if any was found\n",
    "        := return: None, since it is updating the particles attributes\n",
    "        \"\"\"\n",
    "        # Loop over the Particles\n",
    "        for particle in self.particles:\n",
    "            # Calculate the fitness score of the current particle\n",
    "            fitnessScore = self.fitness(particle)\n",
    "\n",
    "            # Found a particle that lead to a better result (lead to a better fitnessScore) \n",
    "            if (particle.personalBestValue > fitnessScore):\n",
    "                # Update personal best value and position\n",
    "                particle.personalBestValue = fitnessScore\n",
    "                particle.personalBestPosition = particle.position\n",
    "\n",
    "    def setGlobalBest(self) -> None:\n",
    "        \"\"\"\n",
    "        # Description:\n",
    "            -> The setGlobalBest method updates the global best value and position if any was found\n",
    "        := return: None, since it is only updating values\n",
    "        \"\"\"\n",
    "        # Loop over the particles\n",
    "        for particle in self.particles:\n",
    "            # Calculate current particle fitness score\n",
    "            bestFitnessScore = self.fitness(particle)\n",
    "\n",
    "            # Check if the current fitness score is better than the global one \n",
    "            if (self.globalBestValue > bestFitnessScore):\n",
    "                # Update the Global best variables\n",
    "                self.globalBestValue = bestFitnessScore\n",
    "                self.globalBestPosition = particle.position\n",
    "\n",
    "    def updateParticles(self) -> None:\n",
    "        \"\"\"\n",
    "        # Description\n",
    "            -> This method updates the particle's position according to a new calculated velocity\n",
    "        := return: None, since it is only updating the particles position and velocity\n",
    "        \"\"\"\n",
    "        # Loop over the Particles\n",
    "        for particle in self.particles:\n",
    "            # Calculate the inertia according to the particle's velocity\n",
    "            inertia = self.config['W'] * particle.velocity\n",
    "\n",
    "            # Calculate self and swarm confidences\n",
    "            selfConfidence = self.config['c1'] * rnd.random() * (particle.personalBestPosition - particle.position)\n",
    "            swarmConfidence = self.config['c2'] * rnd.random() * (self.globalBestPosition - particle.position)\n",
    "\n",
    "            # Get a new velocity\n",
    "            newVelocity = inertia + selfConfidence + swarmConfidence\n",
    "\n",
    "            # Update the particle's velocity and position\n",
    "            particle.velocity = newVelocity\n",
    "            particle.update()\n",
    "\n",
    "    def showParticles(self, iteration:int) -> None:\n",
    "        \"\"\"\n",
    "        # Description\n",
    "            -> The showParticles method creates a plot to visualize the particles position within a given iteration\n",
    "        := return: None, since it is only plotting the particles data\n",
    "        \"\"\"\n",
    "        # Print current iteration and the corresponding global values\n",
    "        print(f\"\\n{iteration} iteration(s)\")\n",
    "        print(f\"[Current Best Position] : {self.globalBestPosition}\")\n",
    "        print(f\"[Current Best Value / Fitness Score] : {self.globalBestValue}\")\n",
    "\n",
    "        # Loop over the particles and add their data into the plot\n",
    "        for particle in self.particles:\n",
    "            plt.plot(particle.position[0], particle.position[1], 'ro')\n",
    "        plt.plot(self.globalBestPosition[0], self.globalBestPosition[1], 'bo')\n",
    "        \n",
    "        # Set the limits for x and y axes to keep the scale constant\n",
    "        plt.xlim(self.config['plotxMin'], self.config['plotxMax'])\n",
    "        plt.ylim(self.config['plotyMin'], self.config['plotyMax'])\n",
    "\n",
    "        # Show the plot\n",
    "        plt.show()\n",
    "\n",
    "    def performSearch(self) -> None:\n",
    "        \"\"\"\n",
    "        # Description\n",
    "            -> This method is responsible for performing search with the particles towards the goal\n",
    "        := param: NumIterations - Number of iterations to be performed\n",
    "        := return: None, due to the fact that we are merely performing search with the particles towards a common goal\n",
    "        \"\"\"\n",
    "        # Perform <NumInterations> iterations\n",
    "        for iteration in range(self.config['NumIterations']):\n",
    "            # Set particles best and global best \n",
    "            self.setPersonalBest()\n",
    "            self.setGlobalBest()\n",
    "\n",
    "            # Plot the current iteration\n",
    "            if ((iteration + 1) % self.config['plotIntervals'] == 0):\n",
    "                self.showParticles(iteration)\n",
    "\n",
    "            # Check if the current error is small enough and therefore stop the iterations\n",
    "            if (abs(self.globalBestValue - self.target) <= self.config['targetError']):\n",
    "                print(f\"[Global Best Position] : {self.globalBestPosition} -> Found in {iteration + 1} iteration(s)\")\n",
    "                return\n",
    "\n",
    "            # Update particles\n",
    "            self.updateParticles()\n",
    "\n",
    "        # Print the best solution\n",
    "        print(f\"[Global Best Position] : {self.globalBestPosition} -> Found in {self.config['NumIterations'] + 1} iteration(s)\")"
   ]
  },
  {
   "cell_type": "code",
   "execution_count": 5,
   "id": "23505dd5-3569-4715-8498-1abd9673a70b",
   "metadata": {},
   "outputs": [
    {
     "name": "stdout",
     "output_type": "stream",
     "text": [
      "\n",
      "4 iteration(s)\n",
      "[Current Best Position] : [-5.50843973  6.0995446 ]\n",
      "[Current Best Value / Fitness Score] : 68.54735258041443\n"
     ]
    },
    {
     "data": {
      "image/png": "[encoded data removed]",
      "text/plain": [
       "<Figure size 640x480 with 1 Axes>"
      ]
     },
     "metadata": {},
     "output_type": "display_data"
    },
    {
     "name": "stdout",
     "output_type": "stream",
     "text": [
      "\n",
      "9 iteration(s)\n",
      "[Current Best Position] : [-0.22480836  1.16059976]\n",
      "[Current Best Value / Fitness Score] : 2.3975305923559684\n"
     ]
    },
    {
     "data": {
      "image/png": "[encoded data removed]",
      "text/plain": [
       "<Figure size 640x480 with 1 Axes>"
      ]
     },
     "metadata": {},
     "output_type": "display_data"
    },
    {
     "name": "stdout",
     "output_type": "stream",
     "text": [
      "\n",
      "14 iteration(s)\n",
      "[Current Best Position] : [0.12137282 0.11605058]\n",
      "[Current Best Value / Fitness Score] : 1.028199099465028\n"
     ]
    },
    {
     "data": {
      "image/png": "[encoded data removed]",
      "text/plain": [
       "<Figure size 640x480 with 1 Axes>"
      ]
     },
     "metadata": {},
     "output_type": "display_data"
    },
    {
     "name": "stdout",
     "output_type": "stream",
     "text": [
      "\n",
      "19 iteration(s)\n",
      "[Current Best Position] : [ 0.02004421 -0.00326672]\n",
      "[Current Best Value / Fitness Score] : 1.000412441989766\n"
     ]
    },
    {
     "data": {
      "image/png": "[encoded data removed]",
      "text/plain": [
       "<Figure size 640x480 with 1 Axes>"
      ]
     },
     "metadata": {},
     "output_type": "display_data"
    },
    {
     "name": "stdout",
     "output_type": "stream",
     "text": [
      "\n",
      "24 iteration(s)\n",
      "[Current Best Position] : [0.01104612 0.00143852]\n",
      "[Current Best Value / Fitness Score] : 1.0001240860222709\n"
     ]
    },
    {
     "data": {
      "image/png": "[encoded data removed]",
      "text/plain": [
       "<Figure size 640x480 with 1 Axes>"
      ]
     },
     "metadata": {},
     "output_type": "display_data"
    },
    {
     "name": "stdout",
     "output_type": "stream",
     "text": [
      "\n",
      "29 iteration(s)\n",
      "[Current Best Position] : [-0.00086484 -0.00067526]\n",
      "[Current Best Value / Fitness Score] : 1.000001203927237\n"
     ]
    },
    {
     "data": {
      "image/png": "[encoded data removed]",
      "text/plain": [
       "<Figure size 640x480 with 1 Axes>"
      ]
     },
     "metadata": {},
     "output_type": "display_data"
    },
    {
     "name": "stdout",
     "output_type": "stream",
     "text": [
      "\n",
      "34 iteration(s)\n",
      "[Current Best Position] : [-4.69103568e-05  2.17739757e-05]\n",
      "[Current Best Value / Fitness Score] : 1.0000000026746876\n"
     ]
    },
    {
     "data": {
      "image/png": "[encoded data removed]",
      "text/plain": [
       "<Figure size 640x480 with 1 Axes>"
      ]
     },
     "metadata": {},
     "output_type": "display_data"
    },
    {
     "name": "stdout",
     "output_type": "stream",
     "text": [
      "\n",
      "39 iteration(s)\n",
      "[Current Best Position] : [-9.85340009e-06 -2.48816013e-05]\n",
      "[Current Best Value / Fitness Score] : 1.0000000007161836\n"
     ]
    },
    {
     "data": {
      "image/png": "[encoded data removed]",
      "text/plain": [
       "<Figure size 640x480 with 1 Axes>"
      ]
     },
     "metadata": {},
     "output_type": "display_data"
    },
    {
     "name": "stdout",
     "output_type": "stream",
     "text": [
      "\n",
      "44 iteration(s)\n",
      "[Current Best Position] : [-3.70791886e-06 -1.10472429e-06]\n",
      "[Current Best Value / Fitness Score] : 1.0000000000149691\n"
     ]
    },
    {
     "data": {
      "image/png": "[encoded data removed]",
      "text/plain": [
       "<Figure size 640x480 with 1 Axes>"
      ]
     },
     "metadata": {},
     "output_type": "display_data"
    },
    {
     "name": "stdout",
     "output_type": "stream",
     "text": [
      "\n",
      "49 iteration(s)\n",
      "[Current Best Position] : [-9.24532756e-07  1.77284591e-07]\n",
      "[Current Best Value / Fitness Score] : 1.0000000000008862\n"
     ]
    },
    {
     "data": {
      "image/png": "[encoded data removed]",
      "text/plain": [
       "<Figure size 640x480 with 1 Axes>"
      ]
     },
     "metadata": {},
     "output_type": "display_data"
    },
    {
     "name": "stdout",
     "output_type": "stream",
     "text": [
      "\n",
      "54 iteration(s)\n",
      "[Current Best Position] : [-8.68708765e-08  2.67446775e-08]\n",
      "[Current Best Value / Fitness Score] : 1.0000000000000082\n"
     ]
    },
    {
     "data": {
      "image/png": "[encoded data removed]",
      "text/plain": [
       "<Figure size 640x480 with 1 Axes>"
      ]
     },
     "metadata": {},
     "output_type": "display_data"
    },
    {
     "name": "stdout",
     "output_type": "stream",
     "text": [
      "\n",
      "59 iteration(s)\n",
      "[Current Best Position] : [-7.88524000e-10 -1.92823893e-08]\n",
      "[Current Best Value / Fitness Score] : 1.0000000000000004\n"
     ]
    },
    {
     "data": {
      "image/png": "[encoded data removed]",
      "text/plain": [
       "<Figure size 640x480 with 1 Axes>"
      ]
     },
     "metadata": {},
     "output_type": "display_data"
    },
    {
     "name": "stdout",
     "output_type": "stream",
     "text": [
      "[Global Best Position] : [-5.69139583e-11 -8.05176524e-09] -> Found in 61 iteration(s)\n"
     ]
    }
   ],
   "source": [
    "searchSpace = Environment(1, config)\n",
    "searchSpace.performSearch()"
   ]
  },
  {
   "cell_type": "code",
   "execution_count": null,
   "id": "3867693b-ffe9-4a6d-b47c-e7ddcc0bca13",
   "metadata": {},
   "outputs": [],
   "source": []
  }
 ],
 "metadata": {
  "kernelspec": {
   "display_name": "Python 3 (ipykernel)",
   "language": "python",
   "name": "python3"
  },
  "language_info": {
   "codemirror_mode": {
    "name": "ipython",
    "version": 3
   },
   "file_extension": ".py",
   "mimetype": "text/x-python",
   "name": "python",
   "nbconvert_exporter": "python",
   "pygments_lexer": "ipython3",
   "version": "3.10.0"
  }
 },
 "nbformat": 4,
 "nbformat_minor": 5
}
