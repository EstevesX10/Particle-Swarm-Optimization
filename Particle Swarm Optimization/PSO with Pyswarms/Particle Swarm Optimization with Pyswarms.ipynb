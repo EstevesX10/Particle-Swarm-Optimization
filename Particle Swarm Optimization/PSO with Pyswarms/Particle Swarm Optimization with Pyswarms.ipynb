{
 "cells": [
  {
   "cell_type": "markdown",
   "id": "e8394d89-f5fe-46a7-b1cf-dac451ae5aac",
   "metadata": {},
   "source": [
    "---\n",
    "<div align=\"center\">\n",
    "\n",
    "# Particle Swarm Optimization with Pyswarms\n",
    "</div>\n",
    "\n",
    "---"
   ]
  },
  {
   "cell_type": "code",
   "execution_count": 81,
   "id": "0f45ddab-20ad-4fa5-aab8-0f863fa1b7db",
   "metadata": {},
   "outputs": [],
   "source": [
    "%load_ext autoreload\n",
    "%autoreload 2\n",
    "\n",
    "# Remove Warnings\n",
    "import warnings\n",
    "warnings.filterwarnings('ignore')"
   ]
  },
  {
   "cell_type": "code",
   "execution_count": 104,
   "id": "943ee960-9aa0-474d-bc3b-4c8363ce57d1",
   "metadata": {},
   "outputs": [],
   "source": [
    "import numpy as np\n",
    "import matplotlib.pyplot as plt\n",
    "import pyswarms as ps\n",
    "from pyswarms.single import (GlobalBestPSO)\n",
    "from pyswarms.utils.functions.single_obj import (sphere, rastrigin, rosenbrock)\n",
    "from pyswarms.utils.plotters import (plot_contour, plot_surface, plot_cost_history)\n",
    "from pyswarms.utils.plotters.formatters import (Designer, Mesher)\n",
    "from IPython.display import (display, Markdown)"
   ]
  },
  {
   "cell_type": "markdown",
   "id": "08c51a3f-bc23-42dc-bdbe-b1c295117df5",
   "metadata": {},
   "source": [
    "---\n",
    "<div align=\"center\">\n",
    "\n",
    "## Utility Functions\n",
    "</div>\n",
    "\n",
    "---"
   ]
  },
  {
   "cell_type": "code",
   "execution_count": 67,
   "id": "0204f218-6e6f-47fc-a7f0-b61f9278c943",
   "metadata": {},
   "outputs": [],
   "source": [
    "def displayParticlesSearch(config:dict) -> None:\n",
    "    \"\"\"\n",
    "    # Description\n",
    "        -> This function allows to plot the saved results (.gif file) using a markdown syntax\n",
    "    := param: config - Configuration used to create, develop and save the results\n",
    "    := return: None, since the function merely focuses on displaying the results\n",
    "    \"\"\"\n",
    "    # Declare a markdown command line\n",
    "    markdownCommand = f\"\"\"<div align=\\\"center\\\">\n",
    "                            <img src=\\\"./{config['folder_results']}/{config['filename_result']}.gif\\\" width=\"40%\"/>\n",
    "                          </div>\n",
    "                       \"\"\"\n",
    "    \n",
    "    # Display the markdown \n",
    "    display(Markdown(markdownCommand))"
   ]
  },
  {
   "cell_type": "code",
   "execution_count": 105,
   "id": "b2c271f8-1651-499c-b847-51dc724f85a8",
   "metadata": {},
   "outputs": [],
   "source": [
    "def displayCostHistory(optimizer:GlobalBestPSO, length:int, width:int) -> None:\n",
    "    \"\"\"\n",
    "    # Description\n",
    "        -> The displayCostHistory function allows to visualize the cost associated with the particles movement cost throughout all the iterations performed\n",
    "    := param: optimizer - Optimizer used\n",
    "    := param: length - Length of the Plot\n",
    "    := param: width - Width of the Plot\n",
    "    := return: None, since we are only plotting data\n",
    "    \"\"\"\n",
    "    # Plot the cost over Iterations Axes\n",
    "    costHistoryAxes = plot_cost_history(cost_history = optimizer.cost_history)\n",
    "    \n",
    "    # Fetch the Figure associated with the Axes\n",
    "    costFigure = costHistoryAxes.get_figure()\n",
    "    \n",
    "    # Resize the cost figure\n",
    "    costFigure.set_size_inches(7, 5)\n",
    "    \n",
    "    # Show the Final graph\n",
    "    plt.show()"
   ]
  },
  {
   "cell_type": "markdown",
   "id": "497f0ca7-b259-42c5-9b6e-7ad278409105",
   "metadata": {},
   "source": [
    "---\n",
    "<div align=\"center\">\n",
    "\n",
    "## Sphere Function\n",
    "</div>\n",
    "\n",
    "---"
   ]
  },
  {
   "cell_type": "code",
   "execution_count": 51,
   "id": "badfc2bf-d949-4b49-9738-9631a8a04789",
   "metadata": {},
   "outputs": [],
   "source": [
    "# Define the parameters used in PSO within a config dictionary\n",
    "sphereConfig = {'d':2,\n",
    "          'w':0.5,\n",
    "          'c1':1.5,\n",
    "          'c2':0.8,\n",
    "          'n_particles':20,\n",
    "          'n_iterations':300,\n",
    "          'save_results':False,\n",
    "          'folder_results':'Particle Searches',\n",
    "          'filename_result':'SphereParticlesSearch'\n",
    "         }\n",
    "\n",
    "# Define the bounds for the experiment\n",
    "lim = ([-5.12, -5.12], [5.12, 5.12])"
   ]
  },
  {
   "cell_type": "code",
   "execution_count": 52,
   "id": "97d88449-ee2e-407b-aeb4-a0caa3e4bf02",
   "metadata": {},
   "outputs": [
    {
     "name": "stderr",
     "output_type": "stream",
     "text": [
      "2024-09-17 23:09:42,704 - pyswarms.single.global_best - INFO - Optimize for 300 iters with {'d': 2, 'w': 0.5, 'c1': 1.5, 'c2': 0.8, 'n_particles': 20, 'n_iterations': 300, 'save_results': False, 'folder_results': 'Particle Searches', 'filename_result': 'SphereParticlesSearch'}\n",
      "pyswarms.single.global_best: 100%|███████████████████████████████████████████████████████████████████████████████████████████████████████████████████████████████████████████████████████████████████████████████|300/300, best_cost=5.26e-82\n",
      "2024-09-17 23:09:43,355 - pyswarms.single.global_best - INFO - Optimization finished | best cost: 5.26257013489354e-82, best pos: [-2.28464295e-41  2.07308303e-42]\n"
     ]
    }
   ],
   "source": [
    "# Create a new instance of a Optimizer\n",
    "sphereOptimizer = ps.single.GlobalBestPSO(n_particles=config['n_particles'], dimensions=sphereConfig['d'], options=sphereConfig, bounds=lim)\n",
    "\n",
    "# Perform Optimization\n",
    "cost, pos = sphereOptimizer.optimize(sphere, iters=sphereConfig['n_iterations'])"
   ]
  },
  {
   "cell_type": "code",
   "execution_count": 107,
   "id": "a8744f1e-d058-4af1-ba33-ebe6c6d09570",
   "metadata": {},
   "outputs": [
    {
     "data": {
      "image/png": "[encoded data removed]",
      "text/plain": [
       "<Figure size 700x500 with 1 Axes>"
      ]
     },
     "metadata": {},
     "output_type": "display_data"
    }
   ],
   "source": [
    "# PLot the Cost History\n",
    "displayCostHistory(sphereOptimizer, 7, 5)"
   ]
  },
  {
   "cell_type": "code",
   "execution_count": 55,
   "id": "7721389d-b6a3-4d65-8c55-337f6d70debf",
   "metadata": {},
   "outputs": [],
   "source": [
    "# Create a Mesher\n",
    "m = Mesher(func=sphere,\n",
    "           limits=[(-5.12, 5.12), (-5.12, 5.12)], \n",
    "           levels=np.arange(-2, 80.0, 8))\n",
    "\n",
    "# Create a Designer\n",
    "d = Designer(limits=[(-5.12,5.12), (-5.12,5.12), (-1,100)], \n",
    "             label=['x-axis', 'y-axis'],\n",
    "             title_fontsize=20)\n",
    "\n",
    "# Create an Animation\n",
    "animation = plot_contour(pos_history=sphereOptimizer.pos_history,\n",
    "                         mesher=m,\n",
    "                         mark=(0,0),\n",
    "                         designer = d)\n",
    "\n",
    "# Save the animation\n",
    "if sphereConfig['save_results']:\n",
    "    animation.save(f\"./{sphereConfig['folder_results']}/{sphereConfig['filename_result']}.gif\", fps=30)\n",
    "\n",
    "# Close the Plot to display the results below in a gif\n",
    "plt.close()"
   ]
  },
  {
   "cell_type": "code",
   "execution_count": 82,
   "id": "02c8e819-f53f-4078-928a-3087a091039d",
   "metadata": {},
   "outputs": [
    {
     "data": {
      "text/markdown": [
       "<div align=\"center\">\n",
       "                            <img src=\"./Particle Searches/SphereParticlesSearch.gif\" width=\"40%\"/>\n",
       "                          </div>\n",
       "                       "
      ],
      "text/plain": [
       "<IPython.core.display.Markdown object>"
      ]
     },
     "metadata": {},
     "output_type": "display_data"
    }
   ],
   "source": [
    "# Display the Algorithm Search approach\n",
    "displayParticlesSearch(sphereConfig)"
   ]
  },
  {
   "cell_type": "markdown",
   "id": "83cdb62a-044e-4f99-b017-62bc25f4904a",
   "metadata": {},
   "source": [
    "---\n",
    "<div align=\"center\">\n",
    "\n",
    "## Rastrigin Function\n",
    "</div>\n",
    "\n",
    "---"
   ]
  },
  {
   "cell_type": "code",
   "execution_count": 76,
   "id": "d591ecd7-8cb4-48fb-a6e3-afb100a73f06",
   "metadata": {},
   "outputs": [],
   "source": [
    "# Define the parameters used in PSO within a config dictionary\n",
    "rastriginConfig = {'d':2,\n",
    "          'w':0.5,\n",
    "          'c1':1.5,\n",
    "          'c2':0.8,\n",
    "          'n_particles':20,\n",
    "          'n_iterations':300,\n",
    "          'save_results':False,\n",
    "          'folder_results':'Particle Searches',\n",
    "          'filename_result':'RastriginParticlesSearch'\n",
    "         }\n",
    "\n",
    "# Define the bounds for the experiment\n",
    "lim = ([-5.12, -5.12], [5.12, 5.12])"
   ]
  },
  {
   "cell_type": "code",
   "execution_count": 77,
   "id": "d41f2c2b-07a4-469a-80c1-90e89e284152",
   "metadata": {},
   "outputs": [
    {
     "name": "stderr",
     "output_type": "stream",
     "text": [
      "2024-09-17 23:21:13,226 - pyswarms.single.global_best - INFO - Optimize for 300 iters with {'d': 2, 'w': 0.5, 'c1': 1.5, 'c2': 0.8, 'n_particles': 20, 'n_iterations': 300, 'save_results': False, 'folder_results': 'Particle Searches', 'filename_result': 'RastriginParticlesSearch'}\n",
      "pyswarms.single.global_best: 100%|██████████████████████████████████████████████████████████████████████████████████████████████████████████████████████████████████████████████████████████████████████████████████████|300/300, best_cost=0\n",
      "2024-09-17 23:21:13,850 - pyswarms.single.global_best - INFO - Optimization finished | best cost: 0.0, best pos: [-2.49750648e-09 -1.57369173e-09]\n"
     ]
    }
   ],
   "source": [
    "# Create a new instance of a Optimizer\n",
    "rastriginOptimizer = ps.single.GlobalBestPSO(n_particles=rastriginConfig['n_particles'], dimensions=rastriginConfig['d'], options=rastriginConfig, bounds=lim)\n",
    "\n",
    "# Perform Optimization\n",
    "cost, pos = rastriginOptimizer.optimize(rastrigin, iters=rastriginConfig['n_iterations'])"
   ]
  },
  {
   "cell_type": "code",
   "execution_count": 108,
   "id": "ce41fe32-9b0b-48b4-872e-7fae569a6727",
   "metadata": {},
   "outputs": [
    {
     "data": {
      "image/png": "[encoded data removed]",
      "text/plain": [
       "<Figure size 700x500 with 1 Axes>"
      ]
     },
     "metadata": {},
     "output_type": "display_data"
    }
   ],
   "source": [
    "# PLot the Cost History\n",
    "displayCostHistory(rastriginOptimizer, 7, 5)"
   ]
  },
  {
   "cell_type": "code",
   "execution_count": 79,
   "id": "34da83ed-09c9-4a07-92b5-17cfba643c0a",
   "metadata": {},
   "outputs": [],
   "source": [
    "# Create a Mesher\n",
    "m = Mesher(func=rastrigin,\n",
    "           limits=[(-5.12, 5.12), (-5.12, 5.12)], \n",
    "           levels=np.arange(-2, 80.0, 8))\n",
    "\n",
    "# Create a Designer\n",
    "d = Designer(limits=[(-5.12,5.12), (-5.12,5.12), (-1,100)], \n",
    "             label=['x-axis', 'y-axis'],\n",
    "             title_fontsize=20)\n",
    "\n",
    "# Create an Animation\n",
    "animation = plot_contour(pos_history=rastriginOptimizer.pos_history,\n",
    "                         mesher=m,\n",
    "                         mark=(0,0),\n",
    "                         designer = d)\n",
    "\n",
    "# Save the animation\n",
    "if rastriginConfig['save_results']:\n",
    "    animation.save(f\"./{rastriginConfig['folder_results']}/{rastriginConfig['filename_result']}.gif\", fps=30)\n",
    "\n",
    "# Close the Plot to display the results below in a gif\n",
    "plt.close()"
   ]
  },
  {
   "cell_type": "code",
   "execution_count": 80,
   "id": "ebc1729b-bff2-4165-9090-8dbe90863b5e",
   "metadata": {},
   "outputs": [
    {
     "data": {
      "text/markdown": [
       "<div align=\"center\">\n",
       "                            <img src=\"./Particle Searches/RastriginParticlesSearch.gif\" width=\"40%\"/>\n",
       "                          </div>\n",
       "                       "
      ],
      "text/plain": [
       "<IPython.core.display.Markdown object>"
      ]
     },
     "metadata": {},
     "output_type": "display_data"
    }
   ],
   "source": [
    "# Display the Algorithm Search approach\n",
    "displayParticlesSearch(rastriginConfig)"
   ]
  },
  {
   "cell_type": "markdown",
   "id": "000e717d-0b5b-4b1c-b167-a744e573fa8d",
   "metadata": {},
   "source": [
    "---\n",
    "<div align=\"center\">\n",
    "\n",
    "## Rosenbrock Function\n",
    "</div>\n",
    "\n",
    "---"
   ]
  },
  {
   "cell_type": "code",
   "execution_count": 62,
   "id": "7d4ffb3c-7c81-4813-9ea6-b9c38670cb2c",
   "metadata": {},
   "outputs": [],
   "source": [
    "# Define the parameters used in PSO within a config dictionary\n",
    "rosenbrockConfig = {'d':2,\n",
    "          'w':0.5,\n",
    "          'c1':1.5,\n",
    "          'c2':0.8,\n",
    "          'n_particles':20,\n",
    "          'n_iterations':300,\n",
    "          'save_results':False,\n",
    "          'folder_results':'Particle Searches',\n",
    "          'filename_result':'RosenbrockParticlesSearch'\n",
    "         }\n",
    "\n",
    "# Define the bounds for the experiment\n",
    "lim = ([-5.12, -5.12], [5.12, 5.12])"
   ]
  },
  {
   "cell_type": "code",
   "execution_count": 63,
   "id": "0815f648-109f-4a62-b2e6-a5babe965d0a",
   "metadata": {},
   "outputs": [
    {
     "name": "stderr",
     "output_type": "stream",
     "text": [
      "2024-09-17 23:11:37,766 - pyswarms.single.global_best - INFO - Optimize for 300 iters with {'d': 2, 'w': 0.5, 'c1': 1.5, 'c2': 0.8, 'n_particles': 20, 'n_iterations': 300, 'save_results': False, 'folder_results': 'Particle Searches', 'filename_result': 'RosenbrockParticlesSearch'}\n",
      "pyswarms.single.global_best: 100%|███████████████████████████████████████████████████████████████████████████████████████████████████████████████████████████████████████████████████████████████████████████████|300/300, best_cost=7.83e-16\n",
      "2024-09-17 23:11:38,320 - pyswarms.single.global_best - INFO - Optimization finished | best cost: 7.8282876933096585e-16, best pos: [1.00000003 1.00000006]\n"
     ]
    }
   ],
   "source": [
    "# Create a new instance of a Optimizer\n",
    "rosenbrockOptimizer = ps.single.GlobalBestPSO(n_particles=rosenbrockConfig['n_particles'], dimensions=rosenbrockConfig['d'], options=rosenbrockConfig, bounds=lim)\n",
    "\n",
    "# Perform Optimization\n",
    "cost, pos = rosenbrockOptimizer.optimize(rosenbrock, iters=rosenbrockConfig['n_iterations'])"
   ]
  },
  {
   "cell_type": "code",
   "execution_count": 109,
   "id": "6b212794-459d-4140-92d6-fafa6423855c",
   "metadata": {},
   "outputs": [
    {
     "data": {
      "image/png": "[encoded data removed]",
      "text/plain": [
       "<Figure size 700x500 with 1 Axes>"
      ]
     },
     "metadata": {},
     "output_type": "display_data"
    }
   ],
   "source": [
    "# PLot the Cost History\n",
    "displayCostHistory(rosenbrockOptimizer, 7, 5)"
   ]
  },
  {
   "cell_type": "code",
   "execution_count": 65,
   "id": "0e986cd7-d4e3-45dd-ba3c-78d73c07d97e",
   "metadata": {},
   "outputs": [],
   "source": [
    "# Create a Mesher\n",
    "m = Mesher(func=rosenbrock,\n",
    "           limits=[(-5.12, 5.12), (-5.12, 5.12)], \n",
    "           levels=np.arange(-2, 80.0, 8))\n",
    "\n",
    "# Create a Designer\n",
    "d = Designer(limits=[(-5.12,5.12), (-5.12,5.12), (-1,100)], \n",
    "             label=['x-axis', 'y-axis'],\n",
    "             title_fontsize=20)\n",
    "\n",
    "# Create an Animation\n",
    "animation = plot_contour(pos_history=rosenbrockOptimizer.pos_history,\n",
    "                         mesher=m,\n",
    "                         mark=(0,0),\n",
    "                         designer = d)\n",
    "\n",
    "# Save the animation\n",
    "if rosenbrockConfig['save_results']:\n",
    "    animation.save(f\"./{rosenbrockConfig['folder_results']}/{rosenbrockConfig['filename_result']}.gif\", fps=30)\n",
    "\n",
    "# Close the Plot to display the results below in a gif\n",
    "plt.close()"
   ]
  },
  {
   "cell_type": "code",
   "execution_count": 83,
   "id": "f98077f8-063d-4a88-a80f-b1992c81c9db",
   "metadata": {},
   "outputs": [
    {
     "data": {
      "text/markdown": [
       "<div align=\"center\">\n",
       "                            <img src=\"./Particle Searches/RosenbrockParticlesSearch.gif\" width=\"40%\"/>\n",
       "                          </div>\n",
       "                       "
      ],
      "text/plain": [
       "<IPython.core.display.Markdown object>"
      ]
     },
     "metadata": {},
     "output_type": "display_data"
    }
   ],
   "source": [
    "# Display the Algorithm Search approach\n",
    "displayParticlesSearch(rosenbrockConfig)"
   ]
  },
  {
   "cell_type": "markdown",
   "id": "4eb9f60b-734b-4722-b174-7725ac5744cb",
   "metadata": {},
   "source": [
    "---"
   ]
  }
 ],
 "metadata": {
  "kernelspec": {
   "display_name": "Python 3 (ipykernel)",
   "language": "python",
   "name": "python3"
  },
  "language_info": {
   "codemirror_mode": {
    "name": "ipython",
    "version": 3
   },
   "file_extension": ".py",
   "mimetype": "text/x-python",
   "name": "python",
   "nbconvert_exporter": "python",
   "pygments_lexer": "ipython3",
   "version": "3.10.0"
  }
 },
 "nbformat": 4,
 "nbformat_minor": 5
}
