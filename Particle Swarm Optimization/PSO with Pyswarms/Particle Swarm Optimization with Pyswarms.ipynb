{
 "cells": [
  {
   "cell_type": "markdown",
   "id": "e8394d89-f5fe-46a7-b1cf-dac451ae5aac",
   "metadata": {},
   "source": [
    "---\n",
    "<div align=\"center\">\n",
    "\n",
    "# Particle Swarm Optimization with Pyswarms\n",
    "</div>\n",
    "\n",
    "---"
   ]
  },
  {
   "cell_type": "code",
   "execution_count": 1,
   "id": "0f45ddab-20ad-4fa5-aab8-0f863fa1b7db",
   "metadata": {},
   "outputs": [],
   "source": [
    "%load_ext autoreload\n",
    "%autoreload 2\n",
    "\n",
    "# Remove Warnings\n",
    "import warnings\n",
    "warnings.filterwarnings('ignore')"
   ]
  },
  {
   "cell_type": "code",
   "execution_count": 2,
   "id": "943ee960-9aa0-474d-bc3b-4c8363ce57d1",
   "metadata": {},
   "outputs": [],
   "source": [
    "import numpy as np\n",
    "import matplotlib.pyplot as plt\n",
    "import pyswarms as ps\n",
    "from pyswarms.single import (GlobalBestPSO)\n",
    "from pyswarms.utils.functions.single_obj import (sphere, rastrigin, rosenbrock)\n",
    "from pyswarms.utils.plotters import (plot_contour, plot_surface, plot_cost_history)\n",
    "from pyswarms.utils.plotters.formatters import (Designer, Mesher)\n",
    "from IPython.display import (display, Markdown)"
   ]
  },
  {
   "cell_type": "markdown",
   "id": "08c51a3f-bc23-42dc-bdbe-b1c295117df5",
   "metadata": {},
   "source": [
    "---\n",
    "<div align=\"center\">\n",
    "\n",
    "## Utility Functions\n",
    "</div>\n",
    "\n",
    "---"
   ]
  },
  {
   "cell_type": "code",
   "execution_count": 3,
   "id": "b2c271f8-1651-499c-b847-51dc724f85a8",
   "metadata": {},
   "outputs": [],
   "source": [
    "def getCostHistory(optimizer:GlobalBestPSO, config:dict, length:int, width:int) -> None:\n",
    "    \"\"\"\n",
    "    # Description\n",
    "        -> The getCostHistory function allows to get the plot with the cost associated with the particles movement cost throughout all the iterations performed\n",
    "    := param: optimizer - Optimizer used\n",
    "    := param: config - Configuration \n",
    "    := param: length - Length of the Plot\n",
    "    := param: width - Width of the Plot\n",
    "    := return: None, since we are only plotting data\n",
    "    \"\"\"\n",
    "    # Plot the cost over Iterations Axes\n",
    "    costHistoryAxes = plot_cost_history(cost_history = optimizer.cost_history)\n",
    "    \n",
    "    # Fetch the Figure associated with the Axes\n",
    "    costFigure = costHistoryAxes.get_figure()\n",
    "    \n",
    "    # Resize the cost figure\n",
    "    costFigure.set_size_inches(length, width)\n",
    "\n",
    "    # Save the Plot\n",
    "    if config['save_results']:\n",
    "        costFigure.savefig(f\"./{config['cost_history_folder_results']}/{config['cost_history_filename_result']}\", dpi=300)\n",
    "\n",
    "    # Close the Plot to display the results below using markdown\n",
    "    plt.close()"
   ]
  },
  {
   "cell_type": "markdown",
   "id": "497f0ca7-b259-42c5-9b6e-7ad278409105",
   "metadata": {},
   "source": [
    "---\n",
    "<div align=\"center\">\n",
    "\n",
    "## Sphere Function\n",
    "</div>\n",
    "\n",
    "---"
   ]
  },
  {
   "cell_type": "code",
   "execution_count": 4,
   "id": "badfc2bf-d949-4b49-9738-9631a8a04789",
   "metadata": {},
   "outputs": [],
   "source": [
    "# Define the parameters used in PSO within a config dictionary\n",
    "sphereConfig = {'d':2,\n",
    "                'w':0.5,\n",
    "                'c1':1.5,\n",
    "                'c2':0.8,\n",
    "                'n_particles':20,\n",
    "                'n_iterations':300,\n",
    "                'save_results':False,\n",
    "                'cost_history_folder_results':'Cost History',\n",
    "                'cost_history_filename_result':'SphereCostHistory',\n",
    "                'search_folder_results':'Particle Searches',\n",
    "                'search_filename_result':'SphereParticlesSearch'\n",
    "               }\n",
    "\n",
    "# Define the bounds for the experiment\n",
    "lim = ([-5.12, -5.12], [5.12, 5.12])"
   ]
  },
  {
   "cell_type": "code",
   "execution_count": 5,
   "id": "97d88449-ee2e-407b-aeb4-a0caa3e4bf02",
   "metadata": {},
   "outputs": [
    {
     "name": "stderr",
     "output_type": "stream",
     "text": [
      "2024-09-18 16:17:56,878 - pyswarms.single.global_best - INFO - Optimize for 300 iters with {'d': 2, 'w': 0.5, 'c1': 1.5, 'c2': 0.8, 'n_particles': 20, 'n_iterations': 300, 'save_results': False, 'cost_history_folder_results': 'Cost History', 'cost_history_filename_result': 'SphereCostHistory', 'search_folder_results': 'Particle Searches', 'search_filename_result': 'SphereParticlesSearch'}\n",
      "pyswarms.single.global_best: 100%|███████████████████████████████████████████████████████████████████████████████████████████████████████████████████████████████████████████████████████████████████████████████████████████████████████|300/300, best_cost=1.11e-81\n",
      "2024-09-18 16:17:57,477 - pyswarms.single.global_best - INFO - Optimization finished | best cost: 1.1143570314057355e-81, best pos: [-1.43085613e-41 -3.01599421e-41]\n"
     ]
    }
   ],
   "source": [
    "# Create a new instance of a Optimizer\n",
    "sphereOptimizer = ps.single.GlobalBestPSO(n_particles=sphereConfig['n_particles'], dimensions=sphereConfig['d'], options=sphereConfig, bounds=lim)\n",
    "\n",
    "# Perform Optimization\n",
    "cost, pos = sphereOptimizer.optimize(sphere, iters=sphereConfig['n_iterations'])"
   ]
  },
  {
   "cell_type": "code",
   "execution_count": 6,
   "id": "a8744f1e-d058-4af1-ba33-ebe6c6d09570",
   "metadata": {},
   "outputs": [],
   "source": [
    "# PLot the Cost History\n",
    "getCostHistory(sphereOptimizer, sphereConfig, 7, 5)"
   ]
  },
  {
   "cell_type": "markdown",
   "id": "a4a3774d-50d1-40cd-a21e-e8637545d9aa",
   "metadata": {},
   "source": [
    "<div align=\"center\">\n",
    "    <img src=\"./Cost History/SphereCostHistory.png\" width=\"40%\"/>\n",
    "</div>"
   ]
  },
  {
   "cell_type": "code",
   "execution_count": 7,
   "id": "7721389d-b6a3-4d65-8c55-337f6d70debf",
   "metadata": {},
   "outputs": [],
   "source": [
    "# Create a Mesher\n",
    "m = Mesher(func=sphere,\n",
    "           limits=[(-5.12, 5.12), (-5.12, 5.12)], \n",
    "           levels=np.arange(-2, 80.0, 8))\n",
    "\n",
    "# Create a Designer\n",
    "d = Designer(limits=[(-5.12,5.12), (-5.12,5.12), (-1,100)], \n",
    "             label=['x-axis', 'y-axis'],\n",
    "             title_fontsize=20)\n",
    "\n",
    "# Create an Animation\n",
    "animation = plot_contour(pos_history=sphereOptimizer.pos_history,\n",
    "                         mesher=m,\n",
    "                         mark=(0,0),\n",
    "                         designer = d)\n",
    "\n",
    "# Save the animation\n",
    "if sphereConfig['save_results']:\n",
    "    animation.save(f\"./{sphereConfig['search_folder_results']}/{sphereConfig['search_filename_result']}.gif\", fps=30)\n",
    "\n",
    "# Close the Plot to display the results below in a gif\n",
    "plt.close()"
   ]
  },
  {
   "cell_type": "markdown",
   "id": "bb8c1ee9-740a-4d6e-b378-6cd85eb6a847",
   "metadata": {},
   "source": [
    "<div align=\"center\">\n",
    "    <img src=\"./Particle Searches/SphereParticlesSearch.gif\" width=\"40%\"/>\n",
    "</div>"
   ]
  },
  {
   "cell_type": "markdown",
   "id": "83cdb62a-044e-4f99-b017-62bc25f4904a",
   "metadata": {},
   "source": [
    "---\n",
    "<div align=\"center\">\n",
    "\n",
    "## Rastrigin Function\n",
    "</div>\n",
    "\n",
    "---"
   ]
  },
  {
   "cell_type": "code",
   "execution_count": 8,
   "id": "d591ecd7-8cb4-48fb-a6e3-afb100a73f06",
   "metadata": {},
   "outputs": [],
   "source": [
    "# Define the parameters used in PSO within a config dictionary\n",
    "rastriginConfig = {'d':2,\n",
    "                   'w':0.5,\n",
    "                   'c1':1.5,\n",
    "                   'c2':0.8,\n",
    "                   'n_particles':20,\n",
    "                   'n_iterations':300,\n",
    "                   'save_results':False,\n",
    "                   'cost_history_folder_results':'Cost History',\n",
    "                   'cost_history_filename_result':'RastriginCostHistory',\n",
    "                   'search_folder_results':'Particle Searches',\n",
    "                   'search_filename_result':'RastriginParticlesSearch'\n",
    "                  }\n",
    "\n",
    "# Define the bounds for the experiment\n",
    "lim = ([-5.12, -5.12], [5.12, 5.12])"
   ]
  },
  {
   "cell_type": "code",
   "execution_count": 9,
   "id": "d41f2c2b-07a4-469a-80c1-90e89e284152",
   "metadata": {},
   "outputs": [
    {
     "name": "stderr",
     "output_type": "stream",
     "text": [
      "2024-09-18 16:18:18,185 - pyswarms.single.global_best - INFO - Optimize for 300 iters with {'d': 2, 'w': 0.5, 'c1': 1.5, 'c2': 0.8, 'n_particles': 20, 'n_iterations': 300, 'save_results': False, 'cost_history_folder_results': 'Cost History', 'cost_history_filename_result': 'RastriginCostHistory', 'search_folder_results': 'Particle Searches', 'search_filename_result': 'RastriginParticlesSearch'}\n",
      "pyswarms.single.global_best: 100%|██████████████████████████████████████████████████████████████████████████████████████████████████████████████████████████████████████████████████████████████████████████████████████████████████████████████|300/300, best_cost=0\n",
      "2024-09-18 16:18:18,728 - pyswarms.single.global_best - INFO - Optimization finished | best cost: 0.0, best pos: [-3.05583465e-09 -1.09698621e-10]\n"
     ]
    }
   ],
   "source": [
    "# Create a new instance of a Optimizer\n",
    "rastriginOptimizer = ps.single.GlobalBestPSO(n_particles=rastriginConfig['n_particles'], dimensions=rastriginConfig['d'], options=rastriginConfig, bounds=lim)\n",
    "\n",
    "# Perform Optimization\n",
    "cost, pos = rastriginOptimizer.optimize(rastrigin, iters=rastriginConfig['n_iterations'])"
   ]
  },
  {
   "cell_type": "code",
   "execution_count": 10,
   "id": "ce41fe32-9b0b-48b4-872e-7fae569a6727",
   "metadata": {},
   "outputs": [],
   "source": [
    "# PLot the Cost History\n",
    "getCostHistory(rastriginOptimizer, rastriginConfig, 7, 5)"
   ]
  },
  {
   "cell_type": "markdown",
   "id": "a24089cd-6884-44f3-8ae3-bac63ac3cfb3",
   "metadata": {},
   "source": [
    "<div align=\"center\">\n",
    "    <img src=\"./Cost History/RastriginCostHistory.png\" width=\"40%\"/>\n",
    "</div>"
   ]
  },
  {
   "cell_type": "code",
   "execution_count": 11,
   "id": "34da83ed-09c9-4a07-92b5-17cfba643c0a",
   "metadata": {},
   "outputs": [],
   "source": [
    "# Create a Mesher\n",
    "m = Mesher(func=rastrigin,\n",
    "           limits=[(-5.12, 5.12), (-5.12, 5.12)], \n",
    "           levels=np.arange(-2, 80.0, 8))\n",
    "\n",
    "# Create a Designer\n",
    "d = Designer(limits=[(-5.12,5.12), (-5.12,5.12), (-1,100)], \n",
    "             label=['x-axis', 'y-axis'],\n",
    "             title_fontsize=20)\n",
    "\n",
    "# Create an Animation\n",
    "animation = plot_contour(pos_history=rastriginOptimizer.pos_history,\n",
    "                         mesher=m,\n",
    "                         mark=(0,0),\n",
    "                         designer = d)\n",
    "\n",
    "# Save the animation\n",
    "if rastriginConfig['save_results']:\n",
    "    animation.save(f\"./{rastriginConfig['search_folder_results']}/{rastriginConfig['search_filename_result']}.gif\", fps=30)\n",
    "\n",
    "# Close the Plot to display the results below in a gif\n",
    "plt.close()"
   ]
  },
  {
   "cell_type": "markdown",
   "id": "72b09b3a-3f7d-4b5a-b0d4-9cea18082e05",
   "metadata": {},
   "source": [
    "<div align=\"center\">\n",
    "    <img src=\"./Particle Searches/RastriginParticlesSearch.gif\" width=\"40%\"/>\n",
    "</div>"
   ]
  },
  {
   "cell_type": "markdown",
   "id": "000e717d-0b5b-4b1c-b167-a744e573fa8d",
   "metadata": {},
   "source": [
    "---\n",
    "<div align=\"center\">\n",
    "\n",
    "## Rosenbrock Function\n",
    "</div>\n",
    "\n",
    "---"
   ]
  },
  {
   "cell_type": "code",
   "execution_count": 12,
   "id": "7d4ffb3c-7c81-4813-9ea6-b9c38670cb2c",
   "metadata": {},
   "outputs": [],
   "source": [
    "# Define the parameters used in PSO within a config dictionary\n",
    "rosenbrockConfig = {'d':2,\n",
    "                    'w':0.5,\n",
    "                    'c1':1.5,\n",
    "                    'c2':0.8,\n",
    "                    'n_particles':20,\n",
    "                    'n_iterations':300,\n",
    "                    'save_results':False,\n",
    "                    'cost_history_folder_results':'Cost History',\n",
    "                    'cost_history_filename_result':'RosenbrockCostHistory',\n",
    "                    'search_folder_results':'Particle Searches',\n",
    "                    'search_filename_result':'RosenbrockParticlesSearch'\n",
    "                   }\n",
    "\n",
    "# Define the bounds for the experiment\n",
    "lim = ([-5.12, -5.12], [5.12, 5.12])"
   ]
  },
  {
   "cell_type": "code",
   "execution_count": 13,
   "id": "0815f648-109f-4a62-b2e6-a5babe965d0a",
   "metadata": {},
   "outputs": [
    {
     "name": "stderr",
     "output_type": "stream",
     "text": [
      "2024-09-18 16:18:44,929 - pyswarms.single.global_best - INFO - Optimize for 300 iters with {'d': 2, 'w': 0.5, 'c1': 1.5, 'c2': 0.8, 'n_particles': 20, 'n_iterations': 300, 'save_results': False, 'cost_history_folder_results': 'Cost History', 'cost_history_filename_result': 'RosenbrockCostHistory', 'search_folder_results': 'Particle Searches', 'search_filename_result': 'RosenbrockParticlesSearch'}\n",
      "pyswarms.single.global_best: 100%|███████████████████████████████████████████████████████████████████████████████████████████████████████████████████████████████████████████████████████████████████████████████████████████████████████|300/300, best_cost=1.62e-18\n",
      "2024-09-18 16:18:45,476 - pyswarms.single.global_best - INFO - Optimization finished | best cost: 1.6177288490513764e-18, best pos: [1. 1.]\n"
     ]
    }
   ],
   "source": [
    "# Create a new instance of a Optimizer\n",
    "rosenbrockOptimizer = ps.single.GlobalBestPSO(n_particles=rosenbrockConfig['n_particles'], dimensions=rosenbrockConfig['d'], options=rosenbrockConfig, bounds=lim)\n",
    "\n",
    "# Perform Optimization\n",
    "cost, pos = rosenbrockOptimizer.optimize(rosenbrock, iters=rosenbrockConfig['n_iterations'])"
   ]
  },
  {
   "cell_type": "code",
   "execution_count": 14,
   "id": "6b212794-459d-4140-92d6-fafa6423855c",
   "metadata": {},
   "outputs": [],
   "source": [
    "# PLot the Cost History\n",
    "getCostHistory(rosenbrockOptimizer, rosenbrockConfig, 7, 5)"
   ]
  },
  {
   "cell_type": "markdown",
   "id": "9335bbfb-1ab8-4974-b80b-e2df2781f7ff",
   "metadata": {},
   "source": [
    "<div align=\"center\">\n",
    "    <img src=\"./Cost History/RosenbrockCostHistory.png\" width=\"40%\"/>\n",
    "</div>"
   ]
  },
  {
   "cell_type": "code",
   "execution_count": 15,
   "id": "0e986cd7-d4e3-45dd-ba3c-78d73c07d97e",
   "metadata": {},
   "outputs": [],
   "source": [
    "# Create a Mesher\n",
    "m = Mesher(func=rosenbrock,\n",
    "           limits=[(-5.12, 5.12), (-5.12, 5.12)],\n",
    "           levels=np.arange(-2, 80.0, 8))\n",
    "\n",
    "# Create a Designer\n",
    "d = Designer(limits=[(-5.12,5.12), (-5.12,5.12), (-1,100)],\n",
    "             label=['x-axis', 'y-axis'],\n",
    "             title_fontsize=20)\n",
    "\n",
    "# Create an Animation\n",
    "animation = plot_contour(pos_history=rosenbrockOptimizer.pos_history,\n",
    "                         mesher=m,\n",
    "                         mark=(0,0),\n",
    "                         designer = d)\n",
    "\n",
    "# Save the animation\n",
    "if rosenbrockConfig['save_results']:\n",
    "    animation.save(f\"./{rosenbrockConfig['search_folder_results']}/{rosenbrockConfig['search_filename_result']}.gif\", fps=30)\n",
    "\n",
    "# Close the Plot to display the results below in a gif\n",
    "plt.close()"
   ]
  },
  {
   "cell_type": "markdown",
   "id": "7fb9981d-be87-41e8-ae5b-99da6305d28a",
   "metadata": {},
   "source": [
    "<div align=\"center\">\n",
    "    <img src=\"./Particle Searches/RosenbrockParticlesSearch.gif\" width=\"40%\"/>\n",
    "</div>"
   ]
  },
  {
   "cell_type": "markdown",
   "id": "4eb9f60b-734b-4722-b174-7725ac5744cb",
   "metadata": {},
   "source": [
    "---"
   ]
  }
 ],
 "metadata": {
  "kernelspec": {
   "display_name": "Python 3 (ipykernel)",
   "language": "python",
   "name": "python3"
  },
  "language_info": {
   "codemirror_mode": {
    "name": "ipython",
    "version": 3
   },
   "file_extension": ".py",
   "mimetype": "text/x-python",
   "name": "python",
   "nbconvert_exporter": "python",
   "pygments_lexer": "ipython3",
   "version": "3.10.0"
  }
 },
 "nbformat": 4,
 "nbformat_minor": 5
}
